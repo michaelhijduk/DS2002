{
 "cells": [
  {
   "cell_type": "code",
   "execution_count": 51,
   "id": "15d1e01f-06bc-48da-87ec-65a2b3ca2b5a",
   "metadata": {},
   "outputs": [],
   "source": [
    "import sqlite3\n",
    "import pandas as pd\n",
    "import matplotlib.pyplot as plt"
   ]
  },
  {
   "cell_type": "code",
   "execution_count": 15,
   "id": "1f8f38c7-2433-4809-aec2-2fae63574d4d",
   "metadata": {},
   "outputs": [
    {
     "data": {
      "text/plain": [
       "<sqlite3.Cursor at 0x7f323d2042c0>"
      ]
     },
     "execution_count": 15,
     "metadata": {},
     "output_type": "execute_result"
    }
   ],
   "source": [
    "# Create or connect to a SQLite database\n",
    "connection = sqlite3.connect('student_grades.db')\n",
    "\n",
    "cursor = connection.cursor()\n",
    "cursor.execute('pragma foreign_keys = on')"
   ]
  },
  {
   "cell_type": "code",
   "execution_count": 16,
   "id": "194ff0df-bddb-4e6e-bc29-8d3b356dd4a1",
   "metadata": {},
   "outputs": [
    {
     "data": {
      "text/plain": [
       "<sqlite3.Cursor at 0x7f323d2042c0>"
      ]
     },
     "execution_count": 16,
     "metadata": {},
     "output_type": "execute_result"
    }
   ],
   "source": [
    "cursor.execute('''\n",
    "create table if not exists students (\n",
    "    student_id integer primary key autoincrement,\n",
    "    first_name text,\n",
    "    last_name text\n",
    ")\n",
    "''')\n",
    "\n",
    "cursor.execute('''\n",
    "create table if not exists grades (\n",
    "    grade_id integer primary key autoincrement,\n",
    "    student_id integer,\n",
    "    subject text,\n",
    "    grade integer\n",
    ")\n",
    "''')"
   ]
  },
  {
   "cell_type": "code",
   "execution_count": 17,
   "id": "b318e1a7-b446-4f3b-bd3f-d92c0cc976ce",
   "metadata": {},
   "outputs": [],
   "source": [
    "students_data = [\n",
    "    ('Alice', 'Johnson'),\n",
    "    ('Bob', 'Smith'),\n",
    "    ('Carol', 'White'),\n",
    "    ('David', 'Brown'),\n",
    "    ('Eve', 'Davis')\n",
    "]\n",
    "\n",
    "cursor.executemany('''\n",
    "insert into students (first_name, last_name) values (?, ?)\n",
    "''', students_data)\n",
    "\n",
    "connection.commit()"
   ]
  },
  {
   "cell_type": "code",
   "execution_count": 18,
   "id": "c00ab128-1d73-4df2-afb0-46ded5281722",
   "metadata": {},
   "outputs": [],
   "source": [
    "grades_data = [\n",
    "    (1, 'Math', 95),\n",
    "    (1, 'English', 88),\n",
    "    (1, 'History', 90),\n",
    "    (2, 'Math', 82),\n",
    "    (2, 'English', 76),\n",
    "    (2, 'History', 85),\n",
    "    (3, 'Math', 91),\n",
    "    (3, 'English', 92),\n",
    "    (3, 'History', 93),\n",
    "    (4, 'Math', 83),\n",
    "    (4, 'English', 86),\n",
    "    (4, 'History', 89),\n",
    "    (5, 'Math', 90),\n",
    "    (5, 'English', 79),\n",
    "    (5, 'History', 99)\n",
    "]\n",
    "\n",
    "cursor.executemany('''\n",
    "insert into grades (student_id, subject, grade) values (?, ?, ?)\n",
    "''', grades_data)\n",
    "\n",
    "connection.commit()"
   ]
  },
  {
   "cell_type": "code",
   "execution_count": 19,
   "id": "11e11ad0-12d2-418c-8d6b-f9bc0f4c687b",
   "metadata": {},
   "outputs": [
    {
     "name": "stdout",
     "output_type": "stream",
     "text": [
      "Student: Alice Johnson - Grade: 95\n",
      "Student: Alice Johnson - Grade: 88\n",
      "Student: Alice Johnson - Grade: 90\n",
      "Student: Bob Smith - Grade: 82\n",
      "Student: Bob Smith - Grade: 76\n",
      "Student: Bob Smith - Grade: 85\n",
      "Student: Carol White - Grade: 91\n",
      "Student: Carol White - Grade: 92\n",
      "Student: Carol White - Grade: 93\n",
      "Student: David Brown - Grade: 83\n",
      "Student: David Brown - Grade: 86\n",
      "Student: David Brown - Grade: 89\n",
      "Student: Eve Davis - Grade: 90\n",
      "Student: Eve Davis - Grade: 79\n",
      "Student: Eve Davis - Grade: 99\n"
     ]
    }
   ],
   "source": [
    "cursor.execute('select first_name, last_name, grade from students join grades on students.student_id = grades.student_id')\n",
    "results = cursor.fetchall()\n",
    "for i in range(len(results)):\n",
    "    print(f\"Student: {results[i][0]} {results[i][1]} - Grade: {results[i][2]}\")"
   ]
  },
  {
   "cell_type": "code",
   "execution_count": 20,
   "id": "a44e62d9-5b0d-4bbd-a767-95350025f29f",
   "metadata": {},
   "outputs": [
    {
     "name": "stdout",
     "output_type": "stream",
     "text": [
      "Student: Alice Johnson - Avg Grade: 91.0\n",
      "Student: Bob Smith - Avg Grade: 81.0\n",
      "Student: Carol White - Avg Grade: 92.0\n",
      "Student: David Brown - Avg Grade: 86.0\n",
      "Student: Eve Davis - Avg Grade: 89.33333333333333\n"
     ]
    }
   ],
   "source": [
    "cursor.execute('select first_name, last_name, avg(grade) from grades join students on grades.student_id = students.student_id group by grades.student_id')\n",
    "results = cursor.fetchall()\n",
    "for i in range(len(results)):\n",
    "    print(f\"Student: {results[i][0]} {results[i][1]} - Avg Grade: {results[i][2]}\")"
   ]
  },
  {
   "cell_type": "code",
   "execution_count": 80,
   "id": "92d9f0ec-f0c0-4c88-9a14-a69b5a73c4de",
   "metadata": {},
   "outputs": [
    {
     "name": "stdout",
     "output_type": "stream",
     "text": [
      "Student: Carol White - Grade: 92.0\n"
     ]
    }
   ],
   "source": [
    "cursor.execute('select first_name, last_name, avg(grade) as avgGrade from grades join students on grades.student_id = students.student_id group by first_name order by avgGrade desc limit 1')\n",
    "results = cursor.fetchall()\n",
    "print(f\"Student: {results[0][0]} {results[0][1]} - Grade: {results[0][2]}\")"
   ]
  },
  {
   "cell_type": "code",
   "execution_count": 22,
   "id": "294f4fab-dc25-4217-8ae0-218a206651ac",
   "metadata": {},
   "outputs": [
    {
     "name": "stdout",
     "output_type": "stream",
     "text": [
      "Average grade (math): 88.2\n"
     ]
    }
   ],
   "source": [
    "cursor.execute(\"select avg(grade) from grades where subject = 'Math'\")\n",
    "results = cursor.fetchall()\n",
    "print(f\"Average grade (math): {results[0][0]}\")"
   ]
  },
  {
   "cell_type": "code",
   "execution_count": 23,
   "id": "22fe08f3-5bc3-4521-9342-949b386e3921",
   "metadata": {},
   "outputs": [
    {
     "name": "stdout",
     "output_type": "stream",
     "text": [
      "Student: Alice Johnson\n",
      "Student: Carol White\n",
      "Student: Eve Davis\n"
     ]
    }
   ],
   "source": [
    "cursor.execute('select distinct first_name, last_name from students join grades on students.student_id = grades.student_id where grade > 90')\n",
    "results = cursor.fetchall()\n",
    "for i in range(len(results)):\n",
    "    print(f\"Student: {results[i][0]} {results[i][1]}\")"
   ]
  },
  {
   "cell_type": "raw",
   "id": "e427bf8d-75a6-4749-a9a8-ee05b6401f49",
   "metadata": {},
   "source": [
    "cursor.close()"
   ]
  },
  {
   "cell_type": "code",
   "execution_count": 24,
   "id": "f980da67-5729-4af7-a46a-d82fb916074e",
   "metadata": {},
   "outputs": [
    {
     "name": "stdout",
     "output_type": "stream",
     "text": [
      "   student_id first_name last_name\n",
      "0           1      Alice   Johnson\n",
      "1           2        Bob     Smith\n",
      "2           3      Carol     White\n",
      "3           4      David     Brown\n",
      "4           5        Eve     Davis\n",
      "    grade_id  student_id  subject  grade\n",
      "0          1           1     Math     95\n",
      "1          2           1  English     88\n",
      "2          3           1  History     90\n",
      "3          4           2     Math     82\n",
      "4          5           2  English     76\n",
      "5          6           2  History     85\n",
      "6          7           3     Math     91\n",
      "7          8           3  English     92\n",
      "8          9           3  History     93\n",
      "9         10           4     Math     83\n",
      "10        11           4  English     86\n",
      "11        12           4  History     89\n",
      "12        13           5     Math     90\n",
      "13        14           5  English     79\n",
      "14        15           5  History     99\n"
     ]
    }
   ],
   "source": [
    "students_df = pd.read_sql_query('select * from students', connection)\n",
    "students_df.head()\n",
    "grades_df = pd.read_sql_query('select * from grades', connection)\n",
    "grades_df.head()"
   ]
  },
  {
   "cell_type": "code",
   "execution_count": 26,
   "id": "388fac3f-09c0-4d1b-a242-da1cf8d559b5",
   "metadata": {},
   "outputs": [
    {
     "data": {
      "text/html": [
       "<div>\n",
       "<style scoped>\n",
       "    .dataframe tbody tr th:only-of-type {\n",
       "        vertical-align: middle;\n",
       "    }\n",
       "\n",
       "    .dataframe tbody tr th {\n",
       "        vertical-align: top;\n",
       "    }\n",
       "\n",
       "    .dataframe thead th {\n",
       "        text-align: right;\n",
       "    }\n",
       "</style>\n",
       "<table border=\"1\" class=\"dataframe\">\n",
       "  <thead>\n",
       "    <tr style=\"text-align: right;\">\n",
       "      <th></th>\n",
       "      <th>student_id</th>\n",
       "      <th>first_name</th>\n",
       "      <th>last_name</th>\n",
       "      <th>grade_id</th>\n",
       "      <th>subject</th>\n",
       "      <th>grade</th>\n",
       "    </tr>\n",
       "  </thead>\n",
       "  <tbody>\n",
       "    <tr>\n",
       "      <th>0</th>\n",
       "      <td>1</td>\n",
       "      <td>Alice</td>\n",
       "      <td>Johnson</td>\n",
       "      <td>1</td>\n",
       "      <td>Math</td>\n",
       "      <td>95</td>\n",
       "    </tr>\n",
       "    <tr>\n",
       "      <th>0</th>\n",
       "      <td>1</td>\n",
       "      <td>Alice</td>\n",
       "      <td>Johnson</td>\n",
       "      <td>2</td>\n",
       "      <td>English</td>\n",
       "      <td>88</td>\n",
       "    </tr>\n",
       "    <tr>\n",
       "      <th>0</th>\n",
       "      <td>1</td>\n",
       "      <td>Alice</td>\n",
       "      <td>Johnson</td>\n",
       "      <td>3</td>\n",
       "      <td>History</td>\n",
       "      <td>90</td>\n",
       "    </tr>\n",
       "    <tr>\n",
       "      <th>1</th>\n",
       "      <td>2</td>\n",
       "      <td>Bob</td>\n",
       "      <td>Smith</td>\n",
       "      <td>4</td>\n",
       "      <td>Math</td>\n",
       "      <td>82</td>\n",
       "    </tr>\n",
       "    <tr>\n",
       "      <th>1</th>\n",
       "      <td>2</td>\n",
       "      <td>Bob</td>\n",
       "      <td>Smith</td>\n",
       "      <td>5</td>\n",
       "      <td>English</td>\n",
       "      <td>76</td>\n",
       "    </tr>\n",
       "    <tr>\n",
       "      <th>1</th>\n",
       "      <td>2</td>\n",
       "      <td>Bob</td>\n",
       "      <td>Smith</td>\n",
       "      <td>6</td>\n",
       "      <td>History</td>\n",
       "      <td>85</td>\n",
       "    </tr>\n",
       "    <tr>\n",
       "      <th>2</th>\n",
       "      <td>3</td>\n",
       "      <td>Carol</td>\n",
       "      <td>White</td>\n",
       "      <td>7</td>\n",
       "      <td>Math</td>\n",
       "      <td>91</td>\n",
       "    </tr>\n",
       "    <tr>\n",
       "      <th>2</th>\n",
       "      <td>3</td>\n",
       "      <td>Carol</td>\n",
       "      <td>White</td>\n",
       "      <td>8</td>\n",
       "      <td>English</td>\n",
       "      <td>92</td>\n",
       "    </tr>\n",
       "    <tr>\n",
       "      <th>2</th>\n",
       "      <td>3</td>\n",
       "      <td>Carol</td>\n",
       "      <td>White</td>\n",
       "      <td>9</td>\n",
       "      <td>History</td>\n",
       "      <td>93</td>\n",
       "    </tr>\n",
       "    <tr>\n",
       "      <th>3</th>\n",
       "      <td>4</td>\n",
       "      <td>David</td>\n",
       "      <td>Brown</td>\n",
       "      <td>10</td>\n",
       "      <td>Math</td>\n",
       "      <td>83</td>\n",
       "    </tr>\n",
       "  </tbody>\n",
       "</table>\n",
       "</div>"
      ],
      "text/plain": [
       "   student_id first_name last_name  grade_id  subject  grade\n",
       "0           1      Alice   Johnson         1     Math     95\n",
       "0           1      Alice   Johnson         2  English     88\n",
       "0           1      Alice   Johnson         3  History     90\n",
       "1           2        Bob     Smith         4     Math     82\n",
       "1           2        Bob     Smith         5  English     76\n",
       "1           2        Bob     Smith         6  History     85\n",
       "2           3      Carol     White         7     Math     91\n",
       "2           3      Carol     White         8  English     92\n",
       "2           3      Carol     White         9  History     93\n",
       "3           4      David     Brown        10     Math     83"
      ]
     },
     "execution_count": 26,
     "metadata": {},
     "output_type": "execute_result"
    }
   ],
   "source": [
    "df = students_df.join(grades_df.set_index('student_id'), on='student_id')\n",
    "df.head(10)"
   ]
  },
  {
   "cell_type": "code",
   "execution_count": 82,
   "id": "24620a58-1f2d-4d60-b609-ea3ade3c3b58",
   "metadata": {},
   "outputs": [
    {
     "data": {
      "image/png": "[encoded data removed]",
      "text/plain": [
       "<Figure size 640x480 with 1 Axes>"
      ]
     },
     "metadata": {},
     "output_type": "display_data"
    }
   ],
   "source": [
    "student_avg = df.groupby(['student_id'], as_index = False)['grade'].mean()\n",
    "student_avg.head()\n",
    "\n",
    "fig, ax = plt.subplots()\n",
    "\n",
    "ax.bar(['Alice', 'Bob', 'Carol', 'David', 'Eve'], student_avg['grade'])\n",
    "ax.set_ylabel('Average Grade (out of 100)')\n",
    "ax.set_xlabel('Student')\n",
    "ax.set_title('Average Student Grade')\n",
    "\n",
    "plt.show()"
   ]
  },
  {
   "cell_type": "code",
   "execution_count": 67,
   "id": "97e6907e-79ce-41eb-af26-d4fb5e3f84a9",
   "metadata": {},
   "outputs": [
    {
     "data": {
      "image/png": "[encoded data removed]",
      "text/plain": [
       "<Figure size 640x480 with 1 Axes>"
      ]
     },
     "metadata": {},
     "output_type": "display_data"
    }
   ],
   "source": [
    "subject_avg = df.groupby(['subject'], as_index = False)['grade'].mean()\n",
    "\n",
    "fig, ax = plt.subplots()\n",
    "\n",
    "ax.bar(subject_avg['subject'], subject_avg['grade'])\n",
    "ax.set_ylabel('Average Grade (out of 100)')\n",
    "ax.set_xlabel('Subject')\n",
    "ax.set_title('Average Grade by Subject')\n",
    "\n",
    "plt.show()"
   ]
  }
 ],
 "metadata": {
  "kernelspec": {
   "display_name": "Python 3 (ipykernel)",
   "language": "python",
   "name": "python3"
  },
  "language_info": {
   "codemirror_mode": {
    "name": "ipython",
    "version": 3
   },
   "file_extension": ".py",
   "mimetype": "text/x-python",
   "name": "python",
   "nbconvert_exporter": "python",
   "pygments_lexer": "ipython3",
   "version": "3.10.12"
  }
 },
 "nbformat": 4,
 "nbformat_minor": 5
}
