{
 "cells": [
  {
   "cell_type": "code",
   "execution_count": 1,
   "id": "b11b19b9-2e45-44ef-a493-9041031b8197",
   "metadata": {},
   "outputs": [],
   "source": [
    "import json\n",
    "import pandas as pd\n",
    "import requests\n",
    "import matplotlib.pyplot as plt"
   ]
  },
  {
   "cell_type": "code",
   "execution_count": 2,
   "id": "947de4e5-a64d-45fc-846b-a7089dac030e",
   "metadata": {},
   "outputs": [
    {
     "name": "stdin",
     "output_type": "stream",
     "text": [
      " aapl\n"
     ]
    }
   ],
   "source": [
    "stock = (input()).upper()"
   ]
  },
  {
   "cell_type": "code",
   "execution_count": 3,
   "id": "350cf988-a7af-4b10-a4fd-dce67067f7f3",
   "metadata": {},
   "outputs": [],
   "source": [
    "apikey = \"api_key\"\n",
    "\n",
    "url = \"https://yfapi.net/v6/finance/quote\"\n",
    "url_summary = \"https://yfapi.net/v11/finance/quoteSummary/\" + stock\n",
    "url_trending = \"https://yfapi.net/v1/finance/trending/US\"\n",
    "url_history = \"https://yfapi.net/v8/finance/chart/\" + stock\n",
    "\n",
    "querystring = {\"symbols\": stock}\n",
    "querystring_summary = {\n",
    "    \"symbols\": stock,\n",
    "    \"modules\": \"financialData\"\n",
    "}\n",
    "querystring_trending = {\n",
    "    \"region\": \"US\"\n",
    "}\n",
    "querystring_history = {\n",
    "    \"range\": \"5d\",\n",
    "    \"region\": \"US\",\n",
    "    \"interval\": \"1d\",\n",
    "    \"ticker\": stock\n",
    "}\n",
    "\n",
    "headers = {\n",
    "    \"x-api-key\": apikey\n",
    "}"
   ]
  },
  {
   "cell_type": "code",
   "execution_count": 4,
   "id": "d9988181-1e5f-486c-b299-40fd3a52895c",
   "metadata": {},
   "outputs": [],
   "source": [
    "try:\n",
    "    response = requests.request(\"GET\", url, headers=headers, params=querystring)\n",
    "    response_summary = requests.request(\"GET\", url_summary, headers=headers, params=querystring_summary)\n",
    "    response_trending = requests.request(\"GET\", url_trending, headers=headers, params=querystring_trending)\n",
    "    response_history = requests.request(\"GET\", url_history, headers=headers, params=querystring_history)\n",
    "except:\n",
    "    print(\"Something went wrong when calling the API.\\nThe API may be down or your stock may not be valid.\")"
   ]
  },
  {
   "cell_type": "code",
   "execution_count": 5,
   "id": "dbe33c87-8b4f-4b27-b81d-28be6185681e",
   "metadata": {},
   "outputs": [
    {
     "name": "stdout",
     "output_type": "stream",
     "text": [
      "Ticker name: AAPL\n",
      "Full name: Apple Inc.\n",
      "Current market price: 223.86\n",
      "Target market price: 240.58\n",
      "52 week high: 237.23\n",
      "52 week low: 164.08\n",
      "\n",
      "Top 5 trending stocks:\n",
      "EVGO\n",
      "NVDA\n",
      "HIMS\n",
      "META\n",
      "HKD\n"
     ]
    }
   ],
   "source": [
    "try:\n",
    "    response_json = response.json()\n",
    "    response_summary_json = response_summary.json()\n",
    "    response_trending_json = response_trending.json()\n",
    "    response_history_json = response_history.json()\n",
    "    \n",
    "    print(\"Ticker name:\", response_json['quoteResponse']['result'][0]['symbol'])\n",
    "    print(\"Full name:\", response_json['quoteResponse']['result'][0]['longName'])\n",
    "    print(\"Current market price:\", response_json['quoteResponse']['result'][0]['regularMarketPrice'])\n",
    "    print(\"Target market price:\", response_summary_json['quoteSummary']['result'][0]['financialData']['targetMeanPrice']['raw'])\n",
    "    print(\"52 week high:\", response_json['quoteResponse']['result'][0]['fiftyTwoWeekHigh'])\n",
    "    print(\"52 week low:\", response_json['quoteResponse']['result'][0]['fiftyTwoWeekLow'])\n",
    "\n",
    "    print(\"\\nTop 5 trending stocks:\")\n",
    "    for i in range(5):\n",
    "        print(response_trending_json['finance']['result'][0]['quotes'][i]['symbol'])\n",
    "\n",
    "except:\n",
    "    print(\"Something went wrong when returning data from the API response.\\nYour stock may not be valid.\")"
   ]
  },
  {
   "cell_type": "code",
   "execution_count": 6,
   "id": "71725ded-e945-4554-813e-a10e4ca78b9a",
   "metadata": {},
   "outputs": [
    {
     "data": {
      "text/html": [
       "<div>\n",
       "<style scoped>\n",
       "    .dataframe tbody tr th:only-of-type {\n",
       "        vertical-align: middle;\n",
       "    }\n",
       "\n",
       "    .dataframe tbody tr th {\n",
       "        vertical-align: top;\n",
       "    }\n",
       "\n",
       "    .dataframe thead th {\n",
       "        text-align: right;\n",
       "    }\n",
       "</style>\n",
       "<table border=\"1\" class=\"dataframe\">\n",
       "  <thead>\n",
       "    <tr style=\"text-align: right;\">\n",
       "      <th></th>\n",
       "      <th>symbol</th>\n",
       "      <th>longName</th>\n",
       "      <th>regularMarketPrice</th>\n",
       "      <th>fiftyTwoWeekHigh</th>\n",
       "      <th>fiftyTwoWeekLow</th>\n",
       "      <th>raw</th>\n",
       "    </tr>\n",
       "  </thead>\n",
       "  <tbody>\n",
       "    <tr>\n",
       "      <th>0</th>\n",
       "      <td>AAPL</td>\n",
       "      <td>Apple Inc.</td>\n",
       "      <td>223.86</td>\n",
       "      <td>237.23</td>\n",
       "      <td>164.08</td>\n",
       "      <td>240.58</td>\n",
       "    </tr>\n",
       "    <tr>\n",
       "      <th>1</th>\n",
       "      <td>EVGO</td>\n",
       "      <td>NaN</td>\n",
       "      <td>NaN</td>\n",
       "      <td>NaN</td>\n",
       "      <td>NaN</td>\n",
       "      <td>NaN</td>\n",
       "    </tr>\n",
       "    <tr>\n",
       "      <th>2</th>\n",
       "      <td>HIMS</td>\n",
       "      <td>NaN</td>\n",
       "      <td>NaN</td>\n",
       "      <td>NaN</td>\n",
       "      <td>NaN</td>\n",
       "      <td>NaN</td>\n",
       "    </tr>\n",
       "    <tr>\n",
       "      <th>3</th>\n",
       "      <td>HKD</td>\n",
       "      <td>NaN</td>\n",
       "      <td>NaN</td>\n",
       "      <td>NaN</td>\n",
       "      <td>NaN</td>\n",
       "      <td>NaN</td>\n",
       "    </tr>\n",
       "    <tr>\n",
       "      <th>4</th>\n",
       "      <td>META</td>\n",
       "      <td>NaN</td>\n",
       "      <td>NaN</td>\n",
       "      <td>NaN</td>\n",
       "      <td>NaN</td>\n",
       "      <td>NaN</td>\n",
       "    </tr>\n",
       "    <tr>\n",
       "      <th>5</th>\n",
       "      <td>NVDA</td>\n",
       "      <td>NaN</td>\n",
       "      <td>NaN</td>\n",
       "      <td>NaN</td>\n",
       "      <td>NaN</td>\n",
       "      <td>NaN</td>\n",
       "    </tr>\n",
       "  </tbody>\n",
       "</table>\n",
       "</div>"
      ],
      "text/plain": [
       "  symbol    longName  regularMarketPrice  fiftyTwoWeekHigh  fiftyTwoWeekLow  \\\n",
       "0   AAPL  Apple Inc.              223.86            237.23           164.08   \n",
       "1   EVGO         NaN                 NaN               NaN              NaN   \n",
       "2   HIMS         NaN                 NaN               NaN              NaN   \n",
       "3    HKD         NaN                 NaN               NaN              NaN   \n",
       "4   META         NaN                 NaN               NaN              NaN   \n",
       "5   NVDA         NaN                 NaN               NaN              NaN   \n",
       "\n",
       "      raw  \n",
       "0  240.58  \n",
       "1     NaN  \n",
       "2     NaN  \n",
       "3     NaN  \n",
       "4     NaN  \n",
       "5     NaN  "
      ]
     },
     "execution_count": 6,
     "metadata": {},
     "output_type": "execute_result"
    }
   ],
   "source": [
    "df = pd.DataFrame(pd.json_normalize(response_json['quoteResponse']['result'][0]))\n",
    "df_summary = pd.DataFrame(pd.json_normalize(response_summary_json['quoteSummary']['result'][0]['financialData']['targetMeanPrice']))\n",
    "df_trending = pd.DataFrame(response_trending_json['finance']['result'][0]['quotes']).head(5)\n",
    "\n",
    "df1 = pd.concat([df, df_summary], axis=1)\n",
    "df2 = df1.merge(df_trending, on='symbol', how='outer')\n",
    "df_final = df2[['symbol', 'longName', 'regularMarketPrice', 'fiftyTwoWeekHigh', 'fiftyTwoWeekLow', 'raw']]\n",
    "df_final.rename({'raw': 'targetMeanPrice'})\n",
    "\n",
    "# Note that AAPL is not the highest trending stock but it wasn't in the\n",
    "# top 5 so I forced it's inclusion\n",
    "df_final"
   ]
  },
  {
   "cell_type": "code",
   "execution_count": 7,
   "id": "d62607c3-a28e-46d7-8071-897f00a66872",
   "metadata": {},
   "outputs": [],
   "source": [
    "df_final.to_csv('output.csv')"
   ]
  },
  {
   "cell_type": "code",
   "execution_count": 8,
   "id": "9a6bff2b-cff4-4f8c-a391-f0a6fa143866",
   "metadata": {},
   "outputs": [
    {
     "data": {
      "text/plain": [
       "Text(0, 0.5, 'Daily High')"
      ]
     },
     "execution_count": 8,
     "metadata": {},
     "output_type": "execute_result"
    },
    {
     "data": {
      "image/png": "[encoded data removed]",
      "text/plain": [
       "<Figure size 640x480 with 1 Axes>"
      ]
     },
     "metadata": {},
     "output_type": "display_data"
    }
   ],
   "source": [
    "df_history = pd.DataFrame(response_history_json['chart']['result'][0]['indicators']['quote'][0]['high'])\n",
    "df_history.plot(kind='bar')\n",
    "plt.title(stock + 'Highs Over Last Five Days')\n",
    "plt.xlabel('Day')\n",
    "plt.ylabel('Daily High')"
   ]
  }
 ],
 "metadata": {
  "kernelspec": {
   "display_name": "Python 3 (ipykernel)",
   "language": "python",
   "name": "python3"
  },
  "language_info": {
   "codemirror_mode": {
    "name": "ipython",
    "version": 3
   },
   "file_extension": ".py",
   "mimetype": "text/x-python",
   "name": "python",
   "nbconvert_exporter": "python",
   "pygments_lexer": "ipython3",
   "version": "3.10.12"
  }
 },
 "nbformat": 4,
 "nbformat_minor": 5
}
