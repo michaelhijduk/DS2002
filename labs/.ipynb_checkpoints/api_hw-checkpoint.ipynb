{
 "cells": [
  {
   "cell_type": "code",
   "execution_count": null,
   "id": "4024bd06-a3c1-454e-aa4e-dab14313b0b5",
   "metadata": {},
   "outputs": [],
   "source": [
    "import requests\n",
    "import json\n",
    "import pandas as pd"
   ]
  },
  {
   "cell_type": "code",
   "execution_count": null,
   "id": "52efa7d9-1f02-4997-bfe5-062fcef3d7fe",
   "metadata": {},
   "outputs": [],
   "source": [
    "apikey = \"3u1111Npho6KYQ6VaBmOY2osxPZwjtfJxhNkXa08\"\n",
    "\n",
    "url = \"https://yfapi.net/v6/finance/quote\"\n",
    "\n",
    "headers = {\n",
    "    \"x-api-key\": apikey\n",
    "}\n",
    "\n",
    "stock = (input()).upper()\n",
    "print(stock)"
   ]
  },
  {
   "cell_type": "code",
   "execution_count": null,
   "id": "f4084892-e02d-4bc0-bd55-0f326177d66d",
   "metadata": {},
   "outputs": [],
   "source": [
    "response = requests.request(\"GET\", url, headers=headers, params=querystring)\n",
    "\n",
    "print(response.text)"
   ]
  }
 ],
 "metadata": {
  "kernelspec": {
   "display_name": "Python 3 (ipykernel)",
   "language": "python",
   "name": "python3"
  },
  "language_info": {
   "codemirror_mode": {
    "name": "ipython",
    "version": 3
   },
   "file_extension": ".py",
   "mimetype": "text/x-python",
   "name": "python",
   "nbconvert_exporter": "python",
   "pygments_lexer": "ipython3",
   "version": "3.10.12"
  }
 },
 "nbformat": 4,
 "nbformat_minor": 5
}
